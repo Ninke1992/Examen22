{
 "cells": [
  {
   "cell_type": "code",
   "execution_count": 1,
   "metadata": {},
   "outputs": [],
   "source": [
    "import sys\n",
    "\n",
    "sys.path.insert(0, \"..\")\n",
    "from src.settings import StyleSettings\n",
    "from src.data.data_tools import StyleDataset\n",
    "from src.models import rnn\n",
    "\n",
    "import numpy as np\n",
    "import seaborn as sns\n",
    "from typing import Callable, Optional\n",
    "from torchtext.vocab import Vocab\n",
    "\n",
    "import gin"
   ]
  },
  {
   "cell_type": "code",
   "execution_count": 2,
   "metadata": {},
   "outputs": [],
   "source": [
    "settings = StyleSettings()\n",
    "traindataset = StyleDataset([settings.trainpath])\n",
    "testdataset = StyleDataset([settings.testpath])\n"
   ]
  },
  {
   "cell_type": "code",
   "execution_count": 3,
   "metadata": {},
   "outputs": [
    {
     "name": "stderr",
     "output_type": "stream",
     "text": [
      "2022-06-26 13:16:40.373 | INFO     | src.models.tokenizer:build_vocab:27 - Found 19306 tokens\n"
     ]
    },
    {
     "data": {
      "text/plain": [
       "19308"
      ]
     },
     "execution_count": 3,
     "metadata": {},
     "output_type": "execute_result"
    }
   ],
   "source": [
    "from src.models import tokenizer\n",
    "\n",
    "corpus = []\n",
    "for i in range(len(traindataset)):\n",
    "    x = tokenizer.clean(traindataset[i][0])\n",
    "    corpus.append(x)\n",
    "v = tokenizer.build_vocab(corpus, max=20000)\n",
    "len(v)"
   ]
  },
  {
   "cell_type": "code",
   "execution_count": 4,
   "metadata": {},
   "outputs": [],
   "source": [
    "# TODO ~ about 4 lines of code\n",
    "class StylePreprocessor(tokenizer.Preprocessor):\n",
    "    def __init__(self, max: int, vocab: Vocab, clean: Optional[Callable]) -> None:\n",
    "        super().__init__(max, vocab, clean)\n",
    "\n",
    "    def cast_label(self, label: str) -> int:\n",
    "        d = {\"humor\": 0, \"reuters\": 1, \"wiki\": 2, \"proverbs\": 3}\n",
    "        return d[label]\n"
   ]
  },
  {
   "cell_type": "code",
   "execution_count": 5,
   "metadata": {},
   "outputs": [],
   "source": [
    "max_lenght = 50\n",
    "preprocessor = StylePreprocessor(max=max_lenght, vocab=v, clean=tokenizer.clean)\n"
   ]
  },
  {
   "cell_type": "code",
   "execution_count": 6,
   "metadata": {},
   "outputs": [
    {
     "data": {
      "text/plain": [
       "(torch.Size([32, 48]),\n",
       " tensor([2, 0, 2, 2, 1, 2, 2, 2, 2, 2, 1, 2, 1, 0, 1, 1, 2, 0, 0, 1, 2, 3, 1, 1,\n",
       "         2, 2, 0, 0, 0, 1, 2, 2]))"
      ]
     },
     "execution_count": 6,
     "metadata": {},
     "output_type": "execute_result"
    }
   ],
   "source": [
    "from src.data import data_tools\n",
    "\n",
    "trainstreamer = data_tools.BaseDatastreamer(\n",
    "    dataset=traindataset, batchsize=32, preprocessor=preprocessor\n",
    ").stream()\n",
    "teststreamer = data_tools.BaseDatastreamer(\n",
    "    dataset=testdataset, batchsize=32, preprocessor=preprocessor\n",
    ").stream()\n",
    "\n",
    "x, y = next(trainstreamer)\n",
    "x.shape, y"
   ]
  },
  {
   "cell_type": "code",
   "execution_count": 7,
   "metadata": {},
   "outputs": [
    {
     "name": "stderr",
     "output_type": "stream",
     "text": [
      "2022-06-26 13:16:42.161501: W tensorflow/stream_executor/platform/default/dso_loader.cc:64] Could not load dynamic library 'libcudart.so.11.0'; dlerror: libcudart.so.11.0: cannot open shared object file: No such file or directory\n"
     ]
    },
    {
     "data": {
      "text/plain": [
       "(numpy.ndarray, numpy.ndarray)"
      ]
     },
     "execution_count": 7,
     "metadata": {},
     "output_type": "execute_result"
    }
   ],
   "source": [
    "import trax\n",
    "\n",
    "def Cast():\n",
    "    \"Adding padding to sequences, as the trax model doesn't allow for different sequence lengths\"\n",
    "    def f(generator, max_len = max_lenght):\n",
    "        for x, y in generator:\n",
    "            new_x = []\n",
    "            _x = x.numpy()\n",
    "            for i in range(len(_x)):\n",
    "                array = _x[i]\n",
    "                new_x.append(np.pad(array, (0, max_len - len(array))))\n",
    "            yield np.array(new_x), y.numpy()\n",
    "    return lambda g: f(g)\n",
    "\n",
    "\n",
    "data_pipeline = trax.data.Serial(Cast())\n",
    "trainpipe = data_pipeline(trainstreamer)\n",
    "testpipe = data_pipeline(teststreamer)\n",
    "X, y = next(trainpipe)\n",
    "type(X), type(y)"
   ]
  },
  {
   "cell_type": "code",
   "execution_count": 13,
   "metadata": {},
   "outputs": [],
   "source": [
    "from trax.shapes import signature\n",
    "from src.models import rnnTrax\n",
    "\n",
    "gin.parse_config_file(\"model.gin\")\n",
    "\n",
    "config = {\n",
    "    \"vocab\": len(v),\n",
    "    \"hidden_size\": 128,\n",
    "    \"num_layers\": 3,\n",
    "    \"dropout\": 0.1,\n",
    "    \"output_size\": 4,\n",
    "}\n",
    "\n",
    "model = rnnTrax.NLPTraxCausalAttentionOneGruLast()\n",
    "\n",
    "model.init_weights_and_state(signature(X))\n"
   ]
  },
  {
   "cell_type": "code",
   "execution_count": 14,
   "metadata": {},
   "outputs": [],
   "source": [
    "from trax.supervised.lr_schedules import constant\n",
    "\n",
    "lr = constant(1e-3)"
   ]
  },
  {
   "cell_type": "code",
   "execution_count": 15,
   "metadata": {},
   "outputs": [],
   "source": [
    "from trax.supervised.lr_schedules import warmup_and_rsqrt_decay\n",
    "\n",
    "lr = warmup_and_rsqrt_decay(100, 0.01)"
   ]
  },
  {
   "cell_type": "code",
   "execution_count": 16,
   "metadata": {},
   "outputs": [],
   "source": [
    "from trax.supervised import training\n",
    "from trax import layers as tl\n",
    "from src.models import metrics\n",
    "\n",
    "def train_model(steps):\n",
    "    log_dir = settings.log_dir\n",
    "    log_dir = data_tools.dir_add_timestamp(log_dir)\n",
    "\n",
    "    train_task = training.TrainTask(\n",
    "        labeled_data=trainpipe,\n",
    "        loss_layer=tl.CategoryCrossEntropy(),\n",
    "        optimizer=trax.optimizers.Adam(),\n",
    "        lr_schedule=lr\n",
    "    )\n",
    "\n",
    "    eval_task = training.EvalTask(\n",
    "        labeled_data=testpipe, metrics=[tl.CategoryAccuracy(), tl.WeightedFScore(), tl.CategoryCrossEntropy()], n_eval_batches=25\n",
    "    )\n",
    "\n",
    "    loop = training.Loop(\n",
    "        model,\n",
    "        train_task,\n",
    "        eval_tasks=[eval_task],\n",
    "        output_dir=log_dir,\n",
    "    )\n",
    "    loop.run(steps)"
   ]
  },
  {
   "cell_type": "code",
   "execution_count": 17,
   "metadata": {},
   "outputs": [
    {
     "name": "stderr",
     "output_type": "stream",
     "text": [
      "2022-06-26 13:18:32.957 | INFO     | src.data.data_tools:dir_add_timestamp:66 - Logging to ../tune/20220626-1318\n",
      "/home/mladmin/.cache/pypoetry/virtualenvs/exam-22-QTUf-Kx1-py3.9/lib/python3.9/site-packages/jax/_src/lib/xla_bridge.py:514: UserWarning: jax.host_count has been renamed to jax.process_count. This alias will eventually be removed; please update your code.\n",
      "  warnings.warn(\n",
      "/home/mladmin/.cache/pypoetry/virtualenvs/exam-22-QTUf-Kx1-py3.9/lib/python3.9/site-packages/trax/layers/base.py:851: FutureWarning: GzipFile was opened for writing, but this will change in future Python releases.  Specify the mode argument for opening it for writing.\n",
      "  with gzip.GzipFile(fileobj=f, compresslevel=compresslevel) as gzipf:\n"
     ]
    },
    {
     "name": "stdout",
     "output_type": "stream",
     "text": [
      "\n",
      "Step      1: Total number of trainable weights: 2636676\n",
      "Step      1: Ran 1 train steps in 6.62 secs\n",
      "Step      1: train CategoryCrossEntropy |  1.38352680\n"
     ]
    },
    {
     "name": "stderr",
     "output_type": "stream",
     "text": [
      "/home/mladmin/.cache/pypoetry/virtualenvs/exam-22-QTUf-Kx1-py3.9/lib/python3.9/site-packages/trax/supervised/training.py:1249: FutureWarning: GzipFile was opened for writing, but this will change in future Python releases.  Specify the mode argument for opening it for writing.\n",
      "  with gzip_lib.GzipFile(fileobj=f, compresslevel=2) as gzipf:\n"
     ]
    },
    {
     "name": "stdout",
     "output_type": "stream",
     "text": [
      "Step      1: eval      CategoryAccuracy |  0.31625000\n",
      "Step      1: eval        WeightedFScore |  0.15845168\n",
      "Step      1: eval  CategoryCrossEntropy |  1.38357815\n",
      "\n",
      "Step    100: Ran 99 train steps in 8.67 secs\n",
      "Step    100: train CategoryCrossEntropy |  1.06037641\n",
      "Step    100: eval      CategoryAccuracy |  0.80375000\n",
      "Step    100: eval        WeightedFScore |  0.78675003\n",
      "Step    100: eval  CategoryCrossEntropy |  0.57789233\n",
      "\n",
      "Step    200: Ran 100 train steps in 9.20 secs\n",
      "Step    200: train CategoryCrossEntropy |  0.44918513\n",
      "Step    200: eval      CategoryAccuracy |  0.86875000\n",
      "Step    200: eval        WeightedFScore |  0.84766730\n",
      "Step    200: eval  CategoryCrossEntropy |  0.34646960\n",
      "\n",
      "Step    300: Ran 100 train steps in 8.36 secs\n",
      "Step    300: train CategoryCrossEntropy |  0.31935063\n",
      "Step    300: eval      CategoryAccuracy |  0.90125000\n",
      "Step    300: eval        WeightedFScore |  0.90178746\n",
      "Step    300: eval  CategoryCrossEntropy |  0.29950951\n",
      "\n",
      "Step    400: Ran 100 train steps in 8.19 secs\n",
      "Step    400: train CategoryCrossEntropy |  0.22988319\n",
      "Step    400: eval      CategoryAccuracy |  0.89625000\n",
      "Step    400: eval        WeightedFScore |  0.89915290\n",
      "Step    400: eval  CategoryCrossEntropy |  0.29350025\n",
      "\n",
      "Step    500: Ran 100 train steps in 8.57 secs\n",
      "Step    500: train CategoryCrossEntropy |  0.16386200\n",
      "Step    500: eval      CategoryAccuracy |  0.91750000\n",
      "Step    500: eval        WeightedFScore |  0.91474520\n",
      "Step    500: eval  CategoryCrossEntropy |  0.25194691\n",
      "\n",
      "Step    600: Ran 100 train steps in 8.79 secs\n",
      "Step    600: train CategoryCrossEntropy |  0.16008715\n",
      "Step    600: eval      CategoryAccuracy |  0.90250000\n",
      "Step    600: eval        WeightedFScore |  0.90588288\n",
      "Step    600: eval  CategoryCrossEntropy |  0.25438596\n",
      "\n",
      "Step    700: Ran 100 train steps in 8.39 secs\n",
      "Step    700: train CategoryCrossEntropy |  0.14010680\n",
      "Step    700: eval      CategoryAccuracy |  0.92625000\n",
      "Step    700: eval        WeightedFScore |  0.92903203\n",
      "Step    700: eval  CategoryCrossEntropy |  0.20693217\n",
      "\n",
      "Step    800: Ran 100 train steps in 8.44 secs\n",
      "Step    800: train CategoryCrossEntropy |  0.09717610\n",
      "Step    800: eval      CategoryAccuracy |  0.92750000\n",
      "Step    800: eval        WeightedFScore |  0.92800030\n",
      "Step    800: eval  CategoryCrossEntropy |  0.26749270\n",
      "\n",
      "Step    900: Ran 100 train steps in 8.40 secs\n",
      "Step    900: train CategoryCrossEntropy |  0.03521704\n",
      "Step    900: eval      CategoryAccuracy |  0.91125000\n",
      "Step    900: eval        WeightedFScore |  0.91748475\n",
      "Step    900: eval  CategoryCrossEntropy |  0.33666193\n",
      "\n",
      "Step   1000: Ran 100 train steps in 8.33 secs\n",
      "Step   1000: train CategoryCrossEntropy |  0.04770902\n",
      "Step   1000: eval      CategoryAccuracy |  0.93750000\n",
      "Step   1000: eval        WeightedFScore |  0.93749955\n",
      "Step   1000: eval  CategoryCrossEntropy |  0.22968166\n",
      "\n",
      "Step   1100: Ran 100 train steps in 8.34 secs\n",
      "Step   1100: train CategoryCrossEntropy |  0.05083050\n",
      "Step   1100: eval      CategoryAccuracy |  0.92625000\n",
      "Step   1100: eval        WeightedFScore |  0.92711704\n",
      "Step   1100: eval  CategoryCrossEntropy |  0.29380579\n",
      "\n",
      "Step   1200: Ran 100 train steps in 8.31 secs\n",
      "Step   1200: train CategoryCrossEntropy |  0.03732378\n",
      "Step   1200: eval      CategoryAccuracy |  0.90375000\n",
      "Step   1200: eval        WeightedFScore |  0.91014370\n",
      "Step   1200: eval  CategoryCrossEntropy |  0.30024546\n",
      "\n",
      "Step   1300: Ran 100 train steps in 8.27 secs\n",
      "Step   1300: train CategoryCrossEntropy |  0.01421129\n",
      "Step   1300: eval      CategoryAccuracy |  0.92375000\n",
      "Step   1300: eval        WeightedFScore |  0.92391368\n",
      "Step   1300: eval  CategoryCrossEntropy |  0.32927301\n",
      "\n",
      "Step   1400: Ran 100 train steps in 8.21 secs\n",
      "Step   1400: train CategoryCrossEntropy |  0.02177538\n",
      "Step   1400: eval      CategoryAccuracy |  0.91375000\n",
      "Step   1400: eval        WeightedFScore |  0.91182195\n",
      "Step   1400: eval  CategoryCrossEntropy |  0.44292358\n",
      "\n",
      "Step   1500: Ran 100 train steps in 8.13 secs\n",
      "Step   1500: train CategoryCrossEntropy |  0.01083477\n",
      "Step   1500: eval      CategoryAccuracy |  0.92625000\n",
      "Step   1500: eval        WeightedFScore |  0.92632919\n",
      "Step   1500: eval  CategoryCrossEntropy |  0.39249576\n",
      "\n",
      "Step   1600: Ran 100 train steps in 8.44 secs\n",
      "Step   1600: train CategoryCrossEntropy |  0.01460257\n",
      "Step   1600: eval      CategoryAccuracy |  0.91625000\n",
      "Step   1600: eval        WeightedFScore |  0.91762590\n",
      "Step   1600: eval  CategoryCrossEntropy |  0.39245729\n",
      "\n",
      "Step   1700: Ran 100 train steps in 8.34 secs\n",
      "Step   1700: train CategoryCrossEntropy |  0.01095157\n",
      "Step   1700: eval      CategoryAccuracy |  0.93125000\n",
      "Step   1700: eval        WeightedFScore |  0.93360027\n",
      "Step   1700: eval  CategoryCrossEntropy |  0.25371170\n",
      "\n",
      "Step   1800: Ran 100 train steps in 8.38 secs\n",
      "Step   1800: train CategoryCrossEntropy |  0.00896295\n",
      "Step   1800: eval      CategoryAccuracy |  0.92250000\n",
      "Step   1800: eval        WeightedFScore |  0.92340232\n",
      "Step   1800: eval  CategoryCrossEntropy |  0.36996624\n",
      "\n",
      "Step   1900: Ran 100 train steps in 8.31 secs\n",
      "Step   1900: train CategoryCrossEntropy |  0.00680576\n",
      "Step   1900: eval      CategoryAccuracy |  0.91875000\n",
      "Step   1900: eval        WeightedFScore |  0.91877037\n",
      "Step   1900: eval  CategoryCrossEntropy |  0.38483186\n",
      "\n",
      "Step   2000: Ran 100 train steps in 8.31 secs\n",
      "Step   2000: train CategoryCrossEntropy |  0.00627553\n",
      "Step   2000: eval      CategoryAccuracy |  0.92125000\n",
      "Step   2000: eval        WeightedFScore |  0.92017645\n",
      "Step   2000: eval  CategoryCrossEntropy |  0.42417757\n",
      "\n",
      "Step   2100: Ran 100 train steps in 8.37 secs\n",
      "Step   2100: train CategoryCrossEntropy |  0.00129187\n",
      "Step   2100: eval      CategoryAccuracy |  0.92250000\n",
      "Step   2100: eval        WeightedFScore |  0.92461641\n",
      "Step   2100: eval  CategoryCrossEntropy |  0.52723603\n",
      "\n",
      "Step   2200: Ran 100 train steps in 8.30 secs\n",
      "Step   2200: train CategoryCrossEntropy |  0.00518361\n",
      "Step   2200: eval      CategoryAccuracy |  0.91125000\n",
      "Step   2200: eval        WeightedFScore |  0.91302659\n",
      "Step   2200: eval  CategoryCrossEntropy |  0.44956435\n",
      "\n",
      "Step   2300: Ran 100 train steps in 8.43 secs\n",
      "Step   2300: train CategoryCrossEntropy |  0.00821749\n",
      "Step   2300: eval      CategoryAccuracy |  0.93375000\n",
      "Step   2300: eval        WeightedFScore |  0.93893643\n",
      "Step   2300: eval  CategoryCrossEntropy |  0.28940245\n",
      "\n",
      "Step   2400: Ran 100 train steps in 8.16 secs\n",
      "Step   2400: train CategoryCrossEntropy |  0.01452581\n",
      "Step   2400: eval      CategoryAccuracy |  0.91875000\n",
      "Step   2400: eval        WeightedFScore |  0.92290801\n",
      "Step   2400: eval  CategoryCrossEntropy |  0.38061940\n",
      "\n",
      "Step   2500: Ran 100 train steps in 8.06 secs\n",
      "Step   2500: train CategoryCrossEntropy |  0.00332572\n",
      "Step   2500: eval      CategoryAccuracy |  0.91375000\n",
      "Step   2500: eval        WeightedFScore |  0.91291024\n",
      "Step   2500: eval  CategoryCrossEntropy |  0.59051613\n",
      "\n",
      "Step   2600: Ran 100 train steps in 8.76 secs\n",
      "Step   2600: train CategoryCrossEntropy |  0.01322383\n",
      "Step   2600: eval      CategoryAccuracy |  0.90875000\n",
      "Step   2600: eval        WeightedFScore |  0.91161872\n",
      "Step   2600: eval  CategoryCrossEntropy |  0.41386941\n",
      "\n",
      "Step   2700: Ran 100 train steps in 8.23 secs\n",
      "Step   2700: train CategoryCrossEntropy |  0.00707580\n",
      "Step   2700: eval      CategoryAccuracy |  0.90250000\n",
      "Step   2700: eval        WeightedFScore |  0.90656157\n",
      "Step   2700: eval  CategoryCrossEntropy |  0.69715344\n",
      "\n",
      "Step   2800: Ran 100 train steps in 8.25 secs\n",
      "Step   2800: train CategoryCrossEntropy |  0.00804572\n",
      "Step   2800: eval      CategoryAccuracy |  0.93500000\n",
      "Step   2800: eval        WeightedFScore |  0.93964474\n",
      "Step   2800: eval  CategoryCrossEntropy |  0.33995440\n",
      "\n",
      "Step   2900: Ran 100 train steps in 8.27 secs\n",
      "Step   2900: train CategoryCrossEntropy |  0.00294637\n",
      "Step   2900: eval      CategoryAccuracy |  0.89875000\n",
      "Step   2900: eval        WeightedFScore |  0.90058438\n",
      "Step   2900: eval  CategoryCrossEntropy |  0.75134793\n",
      "\n",
      "Step   3000: Ran 100 train steps in 8.37 secs\n",
      "Step   3000: train CategoryCrossEntropy |  0.00098694\n",
      "Step   3000: eval      CategoryAccuracy |  0.92375000\n",
      "Step   3000: eval        WeightedFScore |  0.92851650\n",
      "Step   3000: eval  CategoryCrossEntropy |  0.44995298\n"
     ]
    }
   ],
   "source": [
    "train_model(3000)"
   ]
  },
  {
   "cell_type": "markdown",
   "metadata": {},
   "source": [
    "BEVINDINGEN\n",
    "\n",
    "In trax heb ik eerst een base model gemaakt, met een embedding laag, GRU laag, dropout laag, hier nemen we vervolgens de laatste hidden state van, die wordt gevoed aan de dense laag (zie rnnTrax - BaseNLPTrax). De geselecteerde trax metrics zijn categorical accuracy en WeightedFScore. Dit model, met één GRU laag haalt na 3000 trainingsstappen een weightedFScore behaald van 89%, dat is beter dan het Pytorch model met 2 of 3 lagen! In de tensorboard afbeeldingen is te zien dat het model eerst door alle trainingsvoorbeelden gaat, hier blijft loss/accuraatheid nog horizontaal. Vervolgens, na 1500 stappen begint het model te leren, de loss neemt af en F score neemt snel toe. \n",
    "\n",
    "Vervolgens is het model aangepast naar 2 GRU lagen, beide opgevolgd door een Dropout laag. Dit model begint pas veel later te leren (na 5000 trainingsstappen). Het model bereikt gelijke accuraatheid als het model met één GRU laag. \n",
    "\n",
    "In plaats van het nemen van de laatste hidden state van de GRU, kunnen we ook het gemiddelde van de hidden states nemen. Wanneer dit model gerunt wordt, traint het model gelijk vanaf de eerste stap. Dit model met één laag bereikt na 3000 stappen een fscore van 85%. Hetzelfde model met 2 GRU lagen bereikt een Fscore van 87%. Dit is dus al beter, maar nog steeds minder goed als het toepassen van de \"Last\" layer. Ook de test loss van het model met de AvgLast layer blijft iets achter bij de test loss van het model met Last layer. Bij de afweging tussen deze twee modellen is ook de prioritering trainingstijd vs accuraatheid belangrijk.\n",
    "\n",
    "Vervolgens wordt het aantal units vergroot van 128 naar 256. Dit model bereikt erg snel een hoge accuraatheid, maar accuraatheid neemt na 1000 stappen (84%) bijna niet meer toe (model eindigd op 86%). Het model overtraint wel.\n",
    "\n",
    "Voor bovenstaande modellen wordt nog een constante learning rate gebruikt. Nu willen we een variabele learning rate toepassen. Een mogelijkheid hiertoe is het gebruiken van de warm-up decay scheduler. Hieronder is te zien hoe het schema van deze scheduler er uit ziet. Het model begint met een lage learning rate, deze neemt vervolgens heel snel toe en neemt dan langzaam af. Het model wordt gerunt met 3000 trainingsstappen, en outperformed alle voorgaande modellen. Een Fscore van 90% wordt behaald. Wel overtraind het model opnieuw, te zien aan de toenemende test loss en nog steeds afnemende train loss.\n",
    "\n",
    "Wellicht zou het toevoegen van een attention layer nog wat extra intelligentie toevoegen aan het model. Dit model is genoemd \"NLPTraxCausalAttention\". Er is een CausalAttention layer toegevoegd. De causal attention laag is een variatie op de normale Attention layer welke tracht de bias van de normale attention layer naar onterechte correlaties in de training data weg te halen. Deze bias zorgt in de normale attention layer voor minder generaliseerbaarheid van het model. Het toevoegen van de attention layer heeft een klein positief effect op de Fscore (91%).\n",
    "\n",
    "Vervolgens heb ik de 2e GRU layer uit het model gehaald, omdat het model \"NLPTraxCausalAttention\" aan het overtrainen was (te zien aan de test loss). Wellicht is het model te complex. Dit lijkt inderdaad te werken, de loss wordt sneller kleiner, maar dit model moet niet te lang doorgetraind worden omdat het dan wel weer gaat overtrainen (1500 stappen is voldoende). Dit zorgde ook voor een verbetering van de Fscore naar 92%.\n",
    "\n",
    "Als laatste test nog de avglast() layer aangepast naar de last() layer. In de architectuur met 1 GRU en een Causal attention layer komt deze beter tot zijn recht. De Fscore verbeterd weer iets (93%), en ook neemt de loss sneller af."
   ]
  },
  {
   "cell_type": "code",
   "execution_count": 16,
   "metadata": {},
   "outputs": [
    {
     "data": {
      "text/plain": [
       "[<matplotlib.lines.Line2D at 0x7f96b07246a0>]"
      ]
     },
     "execution_count": 16,
     "metadata": {},
     "output_type": "execute_result"
    },
    {
     "data": {
      "image/png": "[encoded data removed]",
      "text/plain": [
       "<Figure size 432x288 with 1 Axes>"
      ]
     },
     "metadata": {
      "needs_background": "dark"
     },
     "output_type": "display_data"
    }
   ],
   "source": [
    "from trax.supervised.lr_schedules import warmup_and_rsqrt_decay\n",
    "import jax.numpy as jnp\n",
    "\n",
    "from matplotlib import pyplot as plt\n",
    "plt.style.use(\"dark_background\")\n",
    "%matplotlib inline\n",
    "\n",
    "\n",
    "lr = warmup_and_rsqrt_decay(100, 0.01)\n",
    "steps = jnp.arange(3000)\n",
    "y = [lr(x) for x in steps]\n",
    "plt.plot(steps, y)\n"
   ]
  }
 ],
 "metadata": {
  "kernelspec": {
   "display_name": "Python 3.9.12 ('exam-22-QTUf-Kx1-py3.9': venv)",
   "language": "python",
   "name": "python3"
  },
  "language_info": {
   "codemirror_mode": {
    "name": "ipython",
    "version": 3
   },
   "file_extension": ".py",
   "mimetype": "text/x-python",
   "name": "python",
   "nbconvert_exporter": "python",
   "pygments_lexer": "ipython3",
   "version": "3.9.12"
  },
  "orig_nbformat": 4,
  "vscode": {
   "interpreter": {
    "hash": "e6e807b2bb5ac5eb176c4c6775a07937f8bceddd7fa23b8060fe36db016dbd75"
   }
  }
 },
 "nbformat": 4,
 "nbformat_minor": 2
}
