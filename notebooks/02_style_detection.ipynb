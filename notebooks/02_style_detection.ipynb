{
 "cells": [
  {
   "cell_type": "code",
   "execution_count": 1,
   "metadata": {},
   "outputs": [],
   "source": [
    "import sys\n",
    "\n",
    "sys.path.insert(0, \"..\")\n",
    "from src.settings import StyleSettings\n",
    "from src.data.data_tools import StyleDataset\n",
    "from src.models import rnn\n",
    "\n",
    "import numpy as np\n",
    "import seaborn as sns\n",
    "from typing import Callable, Optional\n",
    "from torchtext.vocab import Vocab\n"
   ]
  },
  {
   "cell_type": "markdown",
   "metadata": {},
   "source": [
    "# Load the data"
   ]
  },
  {
   "cell_type": "code",
   "execution_count": 2,
   "metadata": {},
   "outputs": [],
   "source": [
    "settings = StyleSettings()\n",
    "traindataset = StyleDataset([settings.trainpath])\n",
    "testdataset = StyleDataset([settings.testpath])\n"
   ]
  },
  {
   "cell_type": "code",
   "execution_count": 3,
   "metadata": {},
   "outputs": [
    {
     "data": {
      "text/plain": [
       "104"
      ]
     },
     "execution_count": 3,
     "metadata": {},
     "output_type": "execute_result"
    }
   ],
   "source": [
    "len(testdataset) //32"
   ]
  },
  {
   "cell_type": "markdown",
   "metadata": {},
   "source": [
    "We have 419 batches in the dataset"
   ]
  },
  {
   "cell_type": "code",
   "execution_count": 4,
   "metadata": {},
   "outputs": [
    {
     "data": {
      "text/plain": [
       "419"
      ]
     },
     "execution_count": 4,
     "metadata": {},
     "output_type": "execute_result"
    }
   ],
   "source": [
    "len(traindataset) // 32\n"
   ]
  },
  {
   "cell_type": "code",
   "execution_count": 5,
   "metadata": {},
   "outputs": [
    {
     "data": {
      "text/plain": [
       "419.09375"
      ]
     },
     "execution_count": 5,
     "metadata": {},
     "output_type": "execute_result"
    }
   ],
   "source": [
    "len(traindataset)/32"
   ]
  },
  {
   "cell_type": "code",
   "execution_count": 6,
   "metadata": {},
   "outputs": [
    {
     "data": {
      "text/plain": [
       "523"
      ]
     },
     "execution_count": 6,
     "metadata": {},
     "output_type": "execute_result"
    }
   ],
   "source": [
    "104+419"
   ]
  },
  {
   "cell_type": "code",
   "execution_count": 7,
   "metadata": {},
   "outputs": [
    {
     "data": {
      "text/plain": [
       "('Lace is an openwork fabric , patterned with open holes in the work , made by machine or by hand.',\n",
       " 'wiki')"
      ]
     },
     "execution_count": 7,
     "metadata": {},
     "output_type": "execute_result"
    }
   ],
   "source": [
    "x, y = traindataset[42]\n",
    "x, y\n"
   ]
  },
  {
   "cell_type": "markdown",
   "metadata": {},
   "source": [
    "Every batch is a `Tuple[str, str]` of a sentence and a label. We can see this is a classification task.\n",
    "The task is, to classify sentences in four categories.\n",
    "Lets build a vocabulary by copy-pasting the code we used before"
   ]
  },
  {
   "cell_type": "code",
   "execution_count": 8,
   "metadata": {},
   "outputs": [
    {
     "name": "stderr",
     "output_type": "stream",
     "text": [
      "2022-06-26 13:11:20.768 | INFO     | src.models.tokenizer:build_vocab:27 - Found 19306 tokens\n"
     ]
    },
    {
     "data": {
      "text/plain": [
       "19308"
      ]
     },
     "execution_count": 8,
     "metadata": {},
     "output_type": "execute_result"
    }
   ],
   "source": [
    "from src.models import tokenizer\n",
    "\n",
    "corpus = []\n",
    "for i in range(len(traindataset)):\n",
    "    x = tokenizer.clean(traindataset[i][0])\n",
    "    corpus.append(x)\n",
    "v = tokenizer.build_vocab(corpus, max=20000)\n",
    "len(v)\n"
   ]
  },
  {
   "cell_type": "markdown",
   "metadata": {},
   "source": [
    "We need to cast the labels to an integers. You can use this dictionary to do so:"
   ]
  },
  {
   "cell_type": "code",
   "execution_count": 9,
   "metadata": {},
   "outputs": [
    {
     "data": {
      "text/plain": [
       "2"
      ]
     },
     "execution_count": 9,
     "metadata": {},
     "output_type": "execute_result"
    }
   ],
   "source": [
    "d = {\"humor\": 0, \"reuters\": 1, \"wiki\": 2, \"proverbs\": 3}\n",
    "d[y]\n"
   ]
  },
  {
   "cell_type": "markdown",
   "metadata": {},
   "source": [
    "# Question 1\n",
    "Figure out, for every class, what accuracy you should expect if the model would guess blind on the train set"
   ]
  },
  {
   "cell_type": "code",
   "execution_count": 10,
   "metadata": {},
   "outputs": [
    {
     "name": "stdout",
     "output_type": "stream",
     "text": [
      "humor: 0.31414510476474533\n",
      "wiki: 0.31175900380284843\n",
      "proverbs: 0.06196405935426143\n",
      "reuters: 0.3121318320781448\n"
     ]
    }
   ],
   "source": [
    "from collections import Counter\n",
    "\n",
    "dataset = traindataset\n",
    "list_labels = []\n",
    "for i in range(len(dataset)):\n",
    "    label = dataset[i][1]\n",
    "    list_labels.append(label)\n",
    "\n",
    "counter = Counter(list_labels)\n",
    "\n",
    "for i in counter:\n",
    "    accuracy = counter[i]/len(dataset)\n",
    "    print(\"{}: {}\".format(i, accuracy))"
   ]
  },
  {
   "cell_type": "markdown",
   "metadata": {},
   "source": [
    "Reflect on what you see. What does this mean? What implications does this have? Why is that good/bad?\n",
    "Are there things down the line that could cause a problem?"
   ]
  },
  {
   "cell_type": "markdown",
   "metadata": {},
   "source": [
    "1. What does this mean?\n",
    "\n",
    "There are 4 categories, of which 3 have about the same number of observations, but the 4th one has significantly less observations. Therefore, the traindataset is unbalanced, where the class (proverbs) has less observations.\n",
    "\n",
    "2. What implications does this have?\n",
    "\n",
    "A different metric/loss function is necessary to measure accuracy. Precision/Recall would be good\n",
    "\n",
    "3. Why is this good/bad?\n",
    "\n",
    "The model will have a hard time to learn to classify proverbs, it will be biased towards the majority classes.\n",
    "\n",
    "4. Things that could cause a problem down the line:\n",
    "\n",
    "This dataset is not a balanced one, the category proverbs has significantly less observations available. The amount of observations in this class make up 6% of observations while the others all make up for around 31% of observations.\n"
   ]
  },
  {
   "cell_type": "markdown",
   "metadata": {},
   "source": [
    "# Question 2 : Implement a preprocessor\n",
    "\n",
    "We can inherit from `tokenizer.Preprocessor`\n",
    "Only thing we need to adjust is the `cast_label` function.\n",
    " \n",
    "- create a StylePreprocessor class\n",
    "- inherit from Preprocessor\n",
    "- create a new cast_label function for this dataset"
   ]
  },
  {
   "cell_type": "code",
   "execution_count": 11,
   "metadata": {},
   "outputs": [],
   "source": [
    "# TODO ~ about 4 lines of code\n",
    "class StylePreprocessor(tokenizer.Preprocessor):\n",
    "    def __init__(self, max: int, vocab: Vocab, clean: Optional[Callable]) -> None:\n",
    "        super().__init__(max, vocab, clean)\n",
    "\n",
    "    def cast_label(self, label: str) -> int:\n",
    "        d = {\"humor\": 0, \"reuters\": 1, \"wiki\": 2, \"proverbs\": 3}\n",
    "        return d[label]\n"
   ]
  },
  {
   "cell_type": "markdown",
   "metadata": {},
   "source": [
    "To test the preprocessor:"
   ]
  },
  {
   "cell_type": "code",
   "execution_count": 12,
   "metadata": {},
   "outputs": [
    {
     "data": {
      "text/plain": [
       "(tensor([[4929,  854,   32,   15,  499,   21, 8496,  890]], dtype=torch.int32),\n",
       " tensor([2]))"
      ]
     },
     "execution_count": 12,
     "metadata": {},
     "output_type": "execute_result"
    }
   ],
   "source": [
    "preprocessor = StylePreprocessor(max=100, vocab=v, clean=tokenizer.clean)\n",
    "preprocessor([(x, y)])\n"
   ]
  },
  {
   "cell_type": "markdown",
   "metadata": {},
   "source": [
    "# Set up the model\n",
    "We can re-use the BaseDatastreamer"
   ]
  },
  {
   "cell_type": "code",
   "execution_count": 13,
   "metadata": {},
   "outputs": [],
   "source": [
    "from src.data import data_tools\n",
    "\n",
    "trainstreamer = data_tools.BaseDatastreamer(\n",
    "    dataset=traindataset, batchsize=32, preprocessor=preprocessor\n",
    ").stream()\n",
    "teststreamer = data_tools.BaseDatastreamer(\n",
    "    dataset=testdataset, batchsize=32, preprocessor=preprocessor\n",
    ").stream()\n"
   ]
  },
  {
   "cell_type": "code",
   "execution_count": 14,
   "metadata": {},
   "outputs": [
    {
     "data": {
      "text/plain": [
       "(torch.Size([32, 36]),\n",
       " tensor([2, 1, 0, 1, 3, 1, 0, 2, 2, 1, 3, 2, 2, 1, 2, 0, 1, 1, 2, 1, 0, 0, 0, 2,\n",
       "         0, 1, 2, 2, 0, 2, 2, 2]))"
      ]
     },
     "execution_count": 14,
     "metadata": {},
     "output_type": "execute_result"
    }
   ],
   "source": [
    "x, y = next(trainstreamer)\n",
    "x.shape, y\n"
   ]
  },
  {
   "cell_type": "markdown",
   "metadata": {},
   "source": [
    "## Question 3 : Metrics, loss\n",
    "Select proper metrics and a loss function.\n",
    "\n",
    "Bonus: implement an additional metric function that is relevant for this case."
   ]
  },
  {
   "cell_type": "code",
   "execution_count": 15,
   "metadata": {},
   "outputs": [],
   "source": [
    "from src.models import metrics\n",
    "import torch\n",
    "\n",
    "# F1 score metric is good for unbalanced datasets (which we have), this measure combines precision and recall. \n",
    "# Accuracy metric is also loaded to compare with F1 Score\n",
    "metrics = [metrics.F1Score(), metrics.Accuracy()]\n",
    "loss_fn = torch.nn.CrossEntropyLoss()\n",
    "\n"
   ]
  },
  {
   "cell_type": "markdown",
   "metadata": {},
   "source": [
    "## Question 4 : Basemodel\n",
    "Create a base model. It does not need to be naive; you could re-use the\n",
    "NLP models we used for the IMDB.\n",
    "\n",
    "I suggest to start with a hidden size of about 128.\n",
    "Use a config dictionary, or a gin file, both are fine.\n",
    "\n",
    "Bonus points if you create a Trax model in src.models, and even more if you add a trax training loop."
   ]
  },
  {
   "cell_type": "markdown",
   "metadata": {},
   "source": [
    "NOTE -> TRAX\n",
    "\n",
    "For the trax implementation, see src.models.rnnTrax\n",
    "For the notebook (inc trainloop) running this model, see the notebook 02_StyleDetectionTrax.ipynb"
   ]
  },
  {
   "cell_type": "code",
   "execution_count": 16,
   "metadata": {},
   "outputs": [],
   "source": [
    "from torchsummary import summary\n",
    "\n",
    "log_dir = settings.log_dir\n",
    "# TODO between 2 and 8 lines of code, depending on your setup\n",
    "# Assuming you load your model in one line of code from src.models.rnn\n",
    "\n",
    "config = {\n",
    "    \"vocab\": len(v),\n",
    "    \"hidden_size\": 128,\n",
    "    \"num_layers\": 3,\n",
    "    \"dropout\": 0.1,\n",
    "    \"output_size\": 4,\n",
    "}\n",
    "\n",
    "model = rnn.NLPmodel(config)\n",
    "\n"
   ]
  },
  {
   "cell_type": "markdown",
   "metadata": {},
   "source": [
    "Set up the trainloop.\n",
    "\n",
    "- Give the lenght of the traindataset, how many batches of 32 can you get out of it?\n",
    "\n",
    "419\n",
    "\n",
    "- If you take a short amount of train_steps (eg 25) for every epoch, how many epochs do you need to cover the complete dataset?\n",
    "\n",
    "There are 103 batches in testset, so 523 in entire dataset.\n",
    "523/25 = 20.92 = 21\n",
    "\n",
    "- What amount of epochs do you need to run the loop with trainsteps=25 to cover the complete traindataset once? \n",
    "\n",
    "419/25 = 16.76 = 17\n",
    "\n",
    "- answer the questions above, and pick a reasonable epoch lenght\n",
    "\n",
    "Picked 20 epochs\n",
    "\n",
    "\n",
    "Start with a default learning_rate of 1e-3 and an Adam optimizer."
   ]
  },
  {
   "cell_type": "code",
   "execution_count": 17,
   "metadata": {},
   "outputs": [
    {
     "name": "stderr",
     "output_type": "stream",
     "text": [
      "2022-06-26 13:13:26.746079: W tensorflow/stream_executor/platform/default/dso_loader.cc:64] Could not load dynamic library 'libcudart.so.11.0'; dlerror: libcudart.so.11.0: cannot open shared object file: No such file or directory\n",
      "2022-06-26 13:13:26.746110: I tensorflow/stream_executor/cuda/cudart_stub.cc:29] Ignore above cudart dlerror if you do not have a GPU set up on your machine.\n",
      "2022-06-26 13:13:29.811 | INFO     | src.data.data_tools:dir_add_timestamp:66 - Logging to ../tune/20220626-1313\n",
      "100%|██████████| 25/25 [00:04<00:00,  6.14it/s]\n",
      "2022-06-26 13:13:35.503 | INFO     | src.training.train_model:trainloop:164 - Epoch 0 train 1.2901 test 1.2965 metric ['0.1288', '0.3325']\n",
      "100%|██████████| 25/25 [00:04<00:00,  5.37it/s]\n",
      "2022-06-26 13:13:41.061 | INFO     | src.training.train_model:trainloop:164 - Epoch 1 train 1.2900 test 1.1941 metric ['0.2334', '0.4075']\n",
      "100%|██████████| 25/25 [00:02<00:00, 10.72it/s]\n",
      "2022-06-26 13:13:43.865 | INFO     | src.training.train_model:trainloop:164 - Epoch 2 train 1.2012 test 1.1335 metric ['0.3256', '0.4713']\n",
      "100%|██████████| 25/25 [00:01<00:00, 17.09it/s]\n",
      "2022-06-26 13:13:45.737 | INFO     | src.training.train_model:trainloop:164 - Epoch 3 train 1.0760 test 0.8992 metric ['0.4380', '0.6012']\n",
      "100%|██████████| 25/25 [00:01<00:00, 14.13it/s]\n",
      "2022-06-26 13:13:47.924 | INFO     | src.training.train_model:trainloop:164 - Epoch 4 train 0.9344 test 0.8697 metric ['0.3791', '0.5750']\n",
      "100%|██████████| 25/25 [00:01<00:00, 16.03it/s]\n",
      "2022-06-26 13:13:49.928 | INFO     | src.training.train_model:trainloop:164 - Epoch 5 train 0.9070 test 0.8710 metric ['0.4196', '0.5900']\n",
      "100%|██████████| 25/25 [00:01<00:00, 15.24it/s]\n",
      "2022-06-26 13:13:51.991 | INFO     | src.training.train_model:trainloop:164 - Epoch 6 train 0.7863 test 0.6963 metric ['0.5825', '0.7188']\n",
      "100%|██████████| 25/25 [00:01<00:00, 14.00it/s]\n",
      "2022-06-26 13:13:54.220 | INFO     | src.training.train_model:trainloop:164 - Epoch 7 train 0.7358 test 0.5972 metric ['0.6340', '0.7800']\n",
      "100%|██████████| 25/25 [00:01<00:00, 16.60it/s]\n",
      "2022-06-26 13:13:56.146 | INFO     | src.training.train_model:trainloop:164 - Epoch 8 train 0.5966 test 0.5852 metric ['0.6318', '0.7963']\n",
      "100%|██████████| 25/25 [00:01<00:00, 17.14it/s]\n",
      "2022-06-26 13:13:58.040 | INFO     | src.training.train_model:trainloop:164 - Epoch 9 train 0.5537 test 0.5576 metric ['0.6285', '0.7875']\n",
      "100%|██████████| 25/25 [00:01<00:00, 15.98it/s]\n",
      "2022-06-26 13:14:00.021 | INFO     | src.training.train_model:trainloop:164 - Epoch 10 train 0.5495 test 0.4266 metric ['0.6721', '0.8525']\n",
      "100%|██████████| 25/25 [00:01<00:00, 15.65it/s]\n",
      "2022-06-26 13:14:02.078 | INFO     | src.training.train_model:trainloop:164 - Epoch 11 train 0.5011 test 0.4858 metric ['0.7162', '0.8375']\n",
      "100%|██████████| 25/25 [00:01<00:00, 14.80it/s]\n",
      "2022-06-26 13:14:04.342 | INFO     | src.training.train_model:trainloop:164 - Epoch 12 train 0.4692 test 0.4437 metric ['0.6559', '0.8313']\n",
      "100%|██████████| 25/25 [00:01<00:00, 15.21it/s]\n",
      "2022-06-26 13:14:06.418 | INFO     | src.training.train_model:trainloop:164 - Epoch 13 train 0.4798 test 0.4273 metric ['0.7122', '0.8475']\n",
      "100%|██████████| 25/25 [00:01<00:00, 14.58it/s]\n",
      "2022-06-26 13:14:08.568 | INFO     | src.training.train_model:trainloop:164 - Epoch 14 train 0.4363 test 0.3825 metric ['0.7316', '0.8488']\n",
      "100%|██████████| 25/25 [00:01<00:00, 15.84it/s]\n",
      "2022-06-26 13:14:10.536 | INFO     | src.training.train_model:trainloop:164 - Epoch 15 train 0.4028 test 0.3818 metric ['0.7607', '0.8625']\n",
      "100%|██████████| 25/25 [00:01<00:00, 16.49it/s]\n",
      "2022-06-26 13:14:12.471 | INFO     | src.training.train_model:trainloop:164 - Epoch 16 train 0.3734 test 0.4849 metric ['0.7259', '0.8313']\n",
      "100%|██████████| 25/25 [00:01<00:00, 16.31it/s]\n",
      "2022-06-26 13:14:14.459 | INFO     | src.training.train_model:trainloop:164 - Epoch 17 train 0.3799 test 0.4203 metric ['0.7666', '0.8525']\n",
      "100%|██████████| 25/25 [00:01<00:00, 15.74it/s]\n",
      "2022-06-26 13:14:16.484 | INFO     | src.training.train_model:trainloop:164 - Epoch 18 train 0.3287 test 0.4872 metric ['0.7591', '0.8250']\n",
      "100%|██████████| 25/25 [00:01<00:00, 17.71it/s]\n",
      "2022-06-26 13:14:18.337 | INFO     | src.training.train_model:trainloop:164 - Epoch 19 train 0.3381 test 0.3252 metric ['0.8202', '0.8850']\n",
      "100%|██████████| 20/20 [00:48<00:00,  2.43s/it]\n"
     ]
    }
   ],
   "source": [
    "from src.training import train_model\n",
    "\n",
    "model = train_model.trainloop(\n",
    "    epochs=20,\n",
    "    model=model,\n",
    "    metrics=metrics,\n",
    "    optimizer=torch.optim.Adam,\n",
    "    learning_rate=1e-3,\n",
    "    loss_fn=loss_fn,\n",
    "    train_dataloader=trainstreamer,\n",
    "    test_dataloader=teststreamer,\n",
    "    log_dir=log_dir,\n",
    "    train_steps=25,\n",
    "    eval_steps=25,\n",
    ")\n"
   ]
  },
  {
   "cell_type": "markdown",
   "metadata": {},
   "source": [
    "Save an image from the training in tensorboard in the `figures` folder.\n",
    "Explain what you are seeing."
   ]
  },
  {
   "cell_type": "markdown",
   "metadata": {},
   "source": [
    "ANSWER\n",
    "\n",
    "After 20 epochs, the model is still learning, in both the test and train loss we can see that loss is still decreasing. For further tuning, the amount of epochs should increase. The model is learning more slowly than at the start though, perhaps we can implement step-wise decrease of the learning rate to keep speedy learning at the beginning and change to a lower learning rate once the learning slows down. \n",
    "\n",
    "There are two metrics taken into account, the f1 score and accuracy. We should look mostly at the F1-score as this metric is better adapted to unbalanced datasets. It is visible that accuracy score is indeed significantly higher. F1-score is up to around 75% after 20 epochs."
   ]
  },
  {
   "cell_type": "markdown",
   "metadata": {},
   "source": [
    "# 5 Evaluate the basemodel\n",
    "Create a confusion matrix with the code below"
   ]
  },
  {
   "cell_type": "code",
   "execution_count": 21,
   "metadata": {},
   "outputs": [
    {
     "data": {
      "text/plain": [
       "[Text(0.5, 15.0, 'Predicted'), Text(33.0, 0.5, 'Target')]"
      ]
     },
     "execution_count": 21,
     "metadata": {},
     "output_type": "execute_result"
    },
    {
     "data": {
      "image/png": "[encoded data removed]",
      "text/plain": [
       "<Figure size 432x288 with 2 Axes>"
      ]
     },
     "metadata": {
      "needs_background": "light"
     },
     "output_type": "display_data"
    }
   ],
   "source": [
    "from sklearn.metrics import confusion_matrix\n",
    "\n",
    "y_true = []\n",
    "y_pred = []\n",
    "\n",
    "for _ in range(10):\n",
    "    X, y = next(teststreamer)\n",
    "    yhat = model(X)\n",
    "    yhat = yhat.argmax(dim=1)\n",
    "    y_pred.append(yhat.tolist())\n",
    "    y_true.append(y.tolist())\n",
    "\n",
    "yhat = [x for y in y_pred for x in y]\n",
    "y = [x for y in y_true for x in y]\n",
    "\n",
    "cfm = confusion_matrix(y, yhat)\n",
    "cfm_norm = cfm / np.sum(cfm, axis=1, keepdims=True)\n",
    "plot = sns.heatmap(cfm_norm, annot=cfm_norm, fmt=\".3f\")\n",
    "plot.set(xlabel=\"Predicted\", ylabel=\"Target\")\n"
   ]
  },
  {
   "cell_type": "markdown",
   "metadata": {},
   "source": [
    "Save this in the figures folder.\n",
    "Interpret this. \n",
    "\n",
    "- What is going on?\n",
    "\n",
    "The model performs relatively good for categories 0, 1, and 2, but underperforms significantly for category 3. This is because the model has a bias towards the first 3 categories, as they have many more observations. Most of the wrongly categorized items from category 3 (proverbs) are classified as 2 (wiki).\n",
    "\n",
    "- What is a good metric here?\n",
    "\n",
    "F1 score (precision/recall)\n",
    "\n",
    "- how is your answer to Q1 relevant here?\n",
    "\n",
    "Very, without having the knowledge of the dataset being unbalanced, it wouldn't have been clear why category 3 underperforms so much.\n",
    "\n",
    "- Is there something you could do to fix/improve things, after you see these results?\n",
    "\n",
    "Make the dataset balanced by oversampling the 3rd category or undersampling the first three categories. I would go for oversampling the 3rd (containing less observations) category, because otherwise many observations will be lost. Another way to deal with this is selecting a model (architecture) that deals well with unbalanced datasets."
   ]
  },
  {
   "cell_type": "markdown",
   "metadata": {},
   "source": [
    "# 6 Tune the model\n",
    "Don't overdo this.\n",
    "More is not better.\n",
    "\n",
    "Bonus points for things like:\n",
    "- Attention layers\n",
    "- Trax architecture including a functioning training loop\n",
    "\n",
    "Keep it small! It's better to present 2 or 3 sane experiments that are structured and thought trough, than 25 random guesses. You can test more, but select 2 or 3 of the best alternatives you researched, with a rationale why this works better.\n",
    "\n",
    "Keep it concise; explain:\n",
    "- what you changed\n",
    "- why you thought that was a good idea  \n",
    "- what the impact was (visualise or numeric)\n",
    "- explain the impact\n",
    "\n",
    "You dont need to get a perfect score; curiousity driven research that fails is fine.\n",
    "The insight into what is happening is more important than the quantity.\n",
    "\n",
    "Keep logs of your settings;\n",
    "either use gin, or save configs, or both :)\n",
    "Store images in the `figures` folder."
   ]
  },
  {
   "cell_type": "markdown",
   "metadata": {},
   "source": [
    "1. Experiment one - Attention layer\n",
    "\n",
    "Added an attention layer (AttentionNPL in src.models). This is basically the same model as NLPModel but with the addition of an attention layer. In the loss figures, it is visible that this model learns faster than the NLPModel. After 20 epochs, the f1 score of this model is 80% (whereas the base model got to 78% after 20 epochs). \n",
    "\n",
    "2. Experiment two - Add learning rate scheduler\n",
    "\n",
    "Added a learning rate scheduler to the trainloop that starts with LR of 1e-3 and decreases the learning rate with factor of 0.9 if the model doesn't learn for 3 epochs. For this experiment, the number of epochs is also increased, as the model needs more time to plateau. The number of epochs is now set to 100. This model has an f1 score of 86% after 20 epochs. Learning rate has decreased from 1e-3 to 1.35e-4. The negative side of this model is that we see the test loss starting to increase after 60 epochs, this implies overtraining. In order to have less overtraining, we have to make the model a bit more simple, so that the model doesn't completely adapt to the training data. Therefore we now use only 2 GRU layers (instead of 3) with a dropout of 0.2 (instead of 0.1). This seems to work. The model has the same f1 score after 100 epochs, but test loss increases significanly less. \n",
    " \n",
    "\n",
    "FOR FURTHER EXPERIMENTATION - SEE TRAX NOTEBOOK\n",
    "\n",
    "\n",
    "\n",
    "\n"
   ]
  },
  {
   "cell_type": "code",
   "execution_count": 19,
   "metadata": {},
   "outputs": [
    {
     "name": "stderr",
     "output_type": "stream",
     "text": [
      "2022-06-25 15:17:59.467 | INFO     | src.data.data_tools:dir_add_timestamp:66 - Logging to ../tune/20220625-1517\n",
      "100%|██████████| 25/25 [00:04<00:00,  5.88it/s]\n",
      "2022-06-25 15:18:04.703 | INFO     | src.training.train_model:trainloop:164 - Epoch 0 train 1.2686 test 1.1356 metric ['0.3617', '0.4675']\n",
      "100%|██████████| 25/25 [00:04<00:00,  6.03it/s]\n",
      "2022-06-25 15:18:09.550 | INFO     | src.training.train_model:trainloop:164 - Epoch 1 train 1.1025 test 0.9567 metric ['0.3939', '0.5413']\n",
      "100%|██████████| 25/25 [00:02<00:00, 11.06it/s]\n",
      "2022-06-25 15:18:12.281 | INFO     | src.training.train_model:trainloop:164 - Epoch 2 train 0.9200 test 0.8157 metric ['0.5298', '0.6950']\n",
      "100%|██████████| 25/25 [00:01<00:00, 14.71it/s]\n",
      "2022-06-25 15:18:14.481 | INFO     | src.training.train_model:trainloop:164 - Epoch 3 train 0.7423 test 0.6713 metric ['0.6368', '0.7600']\n",
      "100%|██████████| 25/25 [00:01<00:00, 14.80it/s]\n",
      "2022-06-25 15:18:16.631 | INFO     | src.training.train_model:trainloop:164 - Epoch 4 train 0.6166 test 0.5576 metric ['0.6804', '0.7900']\n",
      "100%|██████████| 25/25 [00:01<00:00, 15.31it/s]\n",
      "2022-06-25 15:18:18.770 | INFO     | src.training.train_model:trainloop:164 - Epoch 5 train 0.5495 test 0.5369 metric ['0.7100', '0.7925']\n",
      "100%|██████████| 25/25 [00:01<00:00, 15.53it/s]\n",
      "2022-06-25 15:18:20.847 | INFO     | src.training.train_model:trainloop:164 - Epoch 6 train 0.5043 test 0.4782 metric ['0.7410', '0.8400']\n",
      "100%|██████████| 25/25 [00:01<00:00, 15.42it/s]\n",
      "2022-06-25 15:18:22.937 | INFO     | src.training.train_model:trainloop:164 - Epoch 7 train 0.4757 test 0.4085 metric ['0.7957', '0.8662']\n",
      "100%|██████████| 25/25 [00:01<00:00, 15.10it/s]\n",
      "2022-06-25 15:18:25.043 | INFO     | src.training.train_model:trainloop:164 - Epoch 8 train 0.4492 test 0.4587 metric ['0.7579', '0.8413']\n",
      "100%|██████████| 25/25 [00:01<00:00, 16.11it/s]\n",
      "2022-06-25 15:18:27.075 | INFO     | src.training.train_model:trainloop:164 - Epoch 9 train 0.4440 test 0.4492 metric ['0.7688', '0.8375']\n",
      "100%|██████████| 25/25 [00:01<00:00, 14.75it/s]\n",
      "2022-06-25 15:18:29.257 | INFO     | src.training.train_model:trainloop:164 - Epoch 10 train 0.4182 test 0.3998 metric ['0.7684', '0.8625']\n",
      "100%|██████████| 25/25 [00:01<00:00, 14.87it/s]\n",
      "2022-06-25 15:18:31.399 | INFO     | src.training.train_model:trainloop:164 - Epoch 11 train 0.3617 test 0.3999 metric ['0.8042', '0.8525']\n",
      "100%|██████████| 25/25 [00:01<00:00, 16.38it/s]\n",
      "2022-06-25 15:18:33.379 | INFO     | src.training.train_model:trainloop:164 - Epoch 12 train 0.3730 test 0.3567 metric ['0.7821', '0.8700']\n",
      "100%|██████████| 25/25 [00:01<00:00, 14.72it/s]\n",
      "2022-06-25 15:18:35.527 | INFO     | src.training.train_model:trainloop:164 - Epoch 13 train 0.3858 test 0.3873 metric ['0.7649', '0.8612']\n",
      "100%|██████████| 25/25 [00:01<00:00, 13.69it/s]\n",
      "2022-06-25 15:18:37.848 | INFO     | src.training.train_model:trainloop:164 - Epoch 14 train 0.3644 test 0.3644 metric ['0.8162', '0.8800']\n",
      "100%|██████████| 25/25 [00:01<00:00, 15.60it/s]\n",
      "2022-06-25 15:18:39.920 | INFO     | src.training.train_model:trainloop:164 - Epoch 15 train 0.4307 test 0.4050 metric ['0.7638', '0.8575']\n",
      "100%|██████████| 25/25 [00:01<00:00, 15.51it/s]\n",
      "2022-06-25 15:18:41.975 | INFO     | src.training.train_model:trainloop:164 - Epoch 16 train 0.3027 test 0.3394 metric ['0.8184', '0.8925']\n",
      "100%|██████████| 25/25 [00:01<00:00, 15.30it/s]\n",
      "2022-06-25 15:18:44.204 | INFO     | src.training.train_model:trainloop:164 - Epoch 17 train 0.3051 test 0.3499 metric ['0.8029', '0.8662']\n",
      "100%|██████████| 25/25 [00:01<00:00, 14.25it/s]\n",
      "2022-06-25 15:18:46.432 | INFO     | src.training.train_model:trainloop:164 - Epoch 18 train 0.3115 test 0.3279 metric ['0.8311', '0.8875']\n",
      "100%|██████████| 25/25 [00:01<00:00, 16.18it/s]\n",
      "2022-06-25 15:18:48.468 | INFO     | src.training.train_model:trainloop:164 - Epoch 19 train 0.3172 test 0.3793 metric ['0.7812', '0.8688']\n",
      "100%|██████████| 20/20 [00:48<00:00,  2.45s/it]\n"
     ]
    }
   ],
   "source": [
    "from src.training import train_model\n",
    "\n",
    "model = train_model.trainloop(\n",
    "    epochs=20,\n",
    "    model=rnn.AttentionNLP(config),\n",
    "    metrics=metrics,\n",
    "    optimizer=torch.optim.Adam,\n",
    "    learning_rate=1e-3,\n",
    "    loss_fn=loss_fn,\n",
    "    train_dataloader=trainstreamer,\n",
    "    test_dataloader=teststreamer,\n",
    "    log_dir=log_dir,\n",
    "    train_steps=25,\n",
    "    eval_steps=25,\n",
    ")\n"
   ]
  },
  {
   "cell_type": "code",
   "execution_count": null,
   "metadata": {},
   "outputs": [],
   "source": [
    "from src.training import train_model\n",
    "\n",
    "config = {\n",
    "    \"vocab\": len(v),\n",
    "    \"hidden_size\": 128,\n",
    "    \"num_layers\": 3,\n",
    "    \"dropout\": 0.1,\n",
    "    \"output_size\": 4,\n",
    "}\n",
    "\n",
    "\n",
    "model = train_model.trainloop(\n",
    "    epochs=100,\n",
    "    model=rnn.AttentionNLP(config),\n",
    "    metrics=metrics,\n",
    "    optimizer=torch.optim.Adam,\n",
    "    learning_rate=1e-3,\n",
    "    patience = 3,\n",
    "    factor = 0.9,\n",
    "    loss_fn=loss_fn,\n",
    "    train_dataloader=trainstreamer,\n",
    "    test_dataloader=teststreamer,\n",
    "    log_dir=log_dir,\n",
    "    train_steps=25,\n",
    "    eval_steps=25,\n",
    ")"
   ]
  }
 ],
 "metadata": {
  "kernelspec": {
   "display_name": "Python 3.9.12 ('exam-22-QTUf-Kx1-py3.9': venv)",
   "language": "python",
   "name": "python3"
  },
  "language_info": {
   "codemirror_mode": {
    "name": "ipython",
    "version": 3
   },
   "file_extension": ".py",
   "mimetype": "text/x-python",
   "name": "python",
   "nbconvert_exporter": "python",
   "pygments_lexer": "ipython3",
   "version": "3.9.12"
  },
  "orig_nbformat": 4,
  "vscode": {
   "interpreter": {
    "hash": "e6e807b2bb5ac5eb176c4c6775a07937f8bceddd7fa23b8060fe36db016dbd75"
   }
  }
 },
 "nbformat": 4,
 "nbformat_minor": 2
}
